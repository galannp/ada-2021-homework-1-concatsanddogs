{
 "cells": [
  {
   "cell_type": "markdown",
   "metadata": {},
   "source": [
    "# Homework 1 (HW1)\n",
    "\n",
    "---\n",
    "By the end of this homework we expect you to be able to:\n",
    "1. Load data from different formats using [pandas](https://pandas.pydata.org/);\n",
    "2. Navigate the documentation of Python packages by yourself;\n",
    "3. Filter and tidy up noisy data sets;\n",
    "4. Aggregate your data in different (and hopefully helpful) ways; \n",
    "5. Create meaningful visualizations to analyze the data;\n",
    "6. Critically think and write about data;\n",
    "---\n",
    "\n",
    "## Important Dates\n",
    "\n",
    "- Homework release: Fri 8 Oct 2021\n",
    "- **Homework due**: Fri 22 Oct 2021, 23:59\n",
    "- Grade release: Fri 29 Oct 2021\n",
    "\n",
    "---\n",
    "\n",
    "##  Some rules\n",
    "\n",
    "1. You are allowed to use any built-in Python library that comes with Anaconda. If you want to use an external library, \n",
    "you may do so, but must justify your choice.\n",
    "2. Make sure you use the `data` folder provided in the repository in read-only mode. (Or alternatively, be sure you \n",
    "don’t change any of the files.)\n",
    "3. Be sure to provide a textual description of your thought process, the assumptions you made, the solution you \n",
    "implemented, and explanations for your answers. A notebook that only has code cells will not suffice.\n",
    "4. For questions containing the **/Discuss:/** prefix, answer not with code, but with a textual explanation\n",
    " (**in markdown**).\n",
    "5. Back up any hypotheses and claims with data, since this is an important aspect of the course.\n",
    "6. Please write all your comments in English, and use meaningful variable names in your code. Your repo should have a \n",
    "single notebook (plus the required data files) in the *master/main* branch. If there are multiple notebooks present, \n",
    "we will **not grade** anything.\n",
    "7. We will **not run your notebook for you**! Rather, we will grade it as is, which means that only the results \n",
    "contained in your evaluated code cells will be considered, and we will not see the results in unevaluated code cells. \n",
    "Thus, be sure to hand in a **fully-run and evaluated notebook**. In order to check whether everything looks as intended,\n",
    " you can check the rendered notebook on the GitHub website once you have pushed your solution there.\n",
    "8. In continuation to the previous point, interactive plots, such as those generated using `plotly`, should be \n",
    "**strictly avoided**!\n",
    "9. Make sure to print results or dataframes that confirm you have properly addressed the task.\n",
    "\n",
    "---\n",
    "\n",
    "## Context\n",
    "\n",
    "In this project, we are going to analyze data from an experiment about *honesty*. \n",
    "Oftentimes, we are asked to confirm our honest intentions by signing **at the end** of a document. \n",
    "For example, in tax returns or insurance policy forms, we are often asked to sign our names under a text that reads \n",
    "something like \"I hereby certify that the above statements are true and correct to the best of my knowledge.\"\n",
    "\n",
    "However, when individuals sign **after** lying in the form, they may not feel the need to correct the falsehoods they \n",
    "have reported. In that context, it could be that signing at **the beginning** rather than at the end of the document \n",
    "would decrease dishonesty, as those who are filling the form would be aware of the ethical requirements *before* they \n",
    "provide the information in the form.\n",
    "\n",
    "This intuition has led researchers to partner up with a motorcycle insurance company to run a randomized experiment. \n",
    "In this insurance company (as well as in many others), customers had to report the exact *odometer kilometrage*¹ in \n",
    "order for the company to adjust the insurance premiums. Note that motorcycles with lower kilometrage are less likely to \n",
    "have issues, and thus will result in a lower *insurance premium*². Therefore, customers have an incentive to lie, \n",
    "reporting a kilometrage lower than the real value, in order to save money.\n",
    "\n",
    "In the experiment, two different forms were created: one where the signing was done at the end, and another where the \n",
    "signing was done at the beginning. The insurance company then randomized these forms (i.e., each customer received\n",
    " exactly one form, each with probability 50%) and sent back the data that customers had provided. Some noteworthy \n",
    " details on the experiment are that:\n",
    "\n",
    "- All customers involved in the experiment already had a contract with the company and were simply renewing it. \n",
    "In the data that the company provided, they also report the odometer kilometrage for their previous contract.\n",
    "Each policy, therefore, contains two contracts: the \"updated\" contract —where the experiment was conducted— and \n",
    "the \"baseline\" contract, which was the previous contract customers had with the company.\n",
    "- A single insurance policy can insure up to 4 distinct motorcycles.\n",
    "\n",
    "In this assignment, you will take the role of the researcher and work analyzing this data!\n",
    "\n",
    "*Glossary:*\n",
    "1. **odometer kilometrage:** the total distance the motorcycle has traveled.\n",
    "2. **insurance premiums:** the amount of money one pays for an insurance policy.\n",
    "\n",
    "---\n",
    "\n",
    "## The data\n",
    "\n",
    "The company provided you with a compressed `.tsv` file containing one row per policy. \n",
    "The `.tsv` has the following fields:\n",
    "\n",
    "- `condition`: either `Sign Top` or `Sign Bottom`, depending on which form was sent.\n",
    "- `id`: unique identifier for each insurance policy.\n",
    "- `motorcycle_count`: number of motorcycles covered by the insurance policy.\n",
    "- `baseline_motorcycle[1-4]`: odometer kilometrage *reported by the customer* in the *previous (baseline)* contract. \n",
    "- `update_motorcycle[1-4]`: odometer kilometrage *reported by the customer* in the *current (updated)* contract.\n",
    "\n",
    "Some comments:\n",
    "\n",
    "- Recall that a single policy can ensure up to 4 motorcycles, and thus, the suffixes [1-4] indicate that there are 4 \n",
    "versions of these columns in the data (e.g., `baseline_motorcycle1`, `baseline_motorcycle2`, `baseline_motorcycle3`, \n",
    "`baseline_motorcycle4`). \n",
    "- When a policy has fewer than 4 motorcycles, only the columns with the smaller numerals are filled (e.g., if a policy \n",
    "insures one motorcycle,  only `baseline_motorcycle1` and `update_motorcycle1` will be filled).\n",
    "- Note that we only have access to the odometer kilometrage reported by the customers, \n",
    "which may be different from the real kilometrage of the motorcycles."
   ]
  },
  {
   "cell_type": "code",
   "execution_count": 109,
   "metadata": {},
   "outputs": [],
   "source": [
    "# Imports you may need\n",
    "import seaborn as sns\n",
    "from IPython.display import display, HTML\n",
    "import matplotlib.pyplot as plt\n",
    "import scipy.stats as stats\n",
    "import pandas as pd\n",
    "import numpy as np"
   ]
  },
  {
   "cell_type": "markdown",
   "metadata": {},
   "source": [
    "### **Task 1** — 4pts\n",
    "\n",
    "Your first task is to load the dataset into memory using pandas. \n",
    "**You should load the data directly from the compressed files.**\n",
    "\n",
    "Here, the files at hand are rather small, and you could easily uncompress the files to disk and work with them as plain \n",
    "text. Why, then, are we asking you to load the files compressed? The reason is that, in your life as a data scientist, \n",
    "this will often not be the case. Then, working with compressed files is key so that you don't receive email from your \n",
    "(often more responsible) colleagues demanding to know how you have managed to fill the entire cluster with your \n",
    "datasets. Another big advantage of compressing files is to simply read files faster. You will often find that reading\n",
    "compressed data on the fly (uncompressing it as you go), is much faster than reading uncompressed data, since reading\n",
    "and writing to disk may be your [bottleneck](https://skipperkongen.dk/2012/02/28/uncompressed-versus-compressed-read/). \n",
    "\n",
    "---\n",
    "\n",
    "**Hint:** `pandas` can open compressed files.\n",
    "\n",
    "**Hint:** In the real world (and in ADA-homework), your file often comes with some weird lines! \n",
    "This time you can safely ignore them (but in the real world you must try to understand why they are there!). \n",
    "Check the `error_bad_lines` or the `on_bad_lines` (depending on your pandas version) parameter on `read_csv`."
   ]
  },
  {
   "cell_type": "code",
   "execution_count": 110,
   "metadata": {},
   "outputs": [
    {
     "name": "stderr",
     "output_type": "stream",
     "text": [
      "b'Skipping line 2142: expected 11 fields, saw 27\\n'\n"
     ]
    },
    {
     "data": {
      "text/html": [
       "<div>\n",
       "<style scoped>\n",
       "    .dataframe tbody tr th:only-of-type {\n",
       "        vertical-align: middle;\n",
       "    }\n",
       "\n",
       "    .dataframe tbody tr th {\n",
       "        vertical-align: top;\n",
       "    }\n",
       "\n",
       "    .dataframe thead th {\n",
       "        text-align: right;\n",
       "    }\n",
       "</style>\n",
       "<table border=\"1\" class=\"dataframe\">\n",
       "  <thead>\n",
       "    <tr style=\"text-align: right;\">\n",
       "      <th></th>\n",
       "      <th>condition</th>\n",
       "      <th>id</th>\n",
       "      <th>baseline_motorcycle1</th>\n",
       "      <th>update_motorcycle1</th>\n",
       "      <th>baseline_motorcycle2</th>\n",
       "      <th>update_motorcycle2</th>\n",
       "      <th>baseline_motorcycle3</th>\n",
       "      <th>update_motorcycle3</th>\n",
       "      <th>baseline_motorcycle4</th>\n",
       "      <th>update_motorcycle4</th>\n",
       "      <th>motorcycle_count</th>\n",
       "    </tr>\n",
       "  </thead>\n",
       "  <tbody>\n",
       "    <tr>\n",
       "      <th>0</th>\n",
       "      <td>Sign Top</td>\n",
       "      <td>1</td>\n",
       "      <td>896</td>\n",
       "      <td>39198</td>\n",
       "      <td>NaN</td>\n",
       "      <td>NaN</td>\n",
       "      <td>NaN</td>\n",
       "      <td>NaN</td>\n",
       "      <td>NaN</td>\n",
       "      <td>NaN</td>\n",
       "      <td>1</td>\n",
       "    </tr>\n",
       "    <tr>\n",
       "      <th>1</th>\n",
       "      <td>Sign Bottom</td>\n",
       "      <td>2</td>\n",
       "      <td>21396</td>\n",
       "      <td>63511</td>\n",
       "      <td>32659.0</td>\n",
       "      <td>47605.0</td>\n",
       "      <td>NaN</td>\n",
       "      <td>NaN</td>\n",
       "      <td>NaN</td>\n",
       "      <td>NaN</td>\n",
       "      <td>2</td>\n",
       "    </tr>\n",
       "    <tr>\n",
       "      <th>2</th>\n",
       "      <td>Sign Bottom</td>\n",
       "      <td>3</td>\n",
       "      <td>21340</td>\n",
       "      <td>37460</td>\n",
       "      <td>44998.0</td>\n",
       "      <td>59002.0</td>\n",
       "      <td>NaN</td>\n",
       "      <td>NaN</td>\n",
       "      <td>NaN</td>\n",
       "      <td>NaN</td>\n",
       "      <td>2</td>\n",
       "    </tr>\n",
       "    <tr>\n",
       "      <th>3</th>\n",
       "      <td>Sign Bottom</td>\n",
       "      <td>4</td>\n",
       "      <td>23912</td>\n",
       "      <td>59136</td>\n",
       "      <td>NaN</td>\n",
       "      <td>NaN</td>\n",
       "      <td>NaN</td>\n",
       "      <td>NaN</td>\n",
       "      <td>NaN</td>\n",
       "      <td>NaN</td>\n",
       "      <td>1</td>\n",
       "    </tr>\n",
       "    <tr>\n",
       "      <th>4</th>\n",
       "      <td>Sign Bottom</td>\n",
       "      <td>5</td>\n",
       "      <td>16862</td>\n",
       "      <td>59292</td>\n",
       "      <td>NaN</td>\n",
       "      <td>NaN</td>\n",
       "      <td>NaN</td>\n",
       "      <td>NaN</td>\n",
       "      <td>NaN</td>\n",
       "      <td>NaN</td>\n",
       "      <td>1</td>\n",
       "    </tr>\n",
       "    <tr>\n",
       "      <th>5</th>\n",
       "      <td>Sign Top</td>\n",
       "      <td>6</td>\n",
       "      <td>147738</td>\n",
       "      <td>167895</td>\n",
       "      <td>125820.0</td>\n",
       "      <td>164688.0</td>\n",
       "      <td>NaN</td>\n",
       "      <td>NaN</td>\n",
       "      <td>NaN</td>\n",
       "      <td>NaN</td>\n",
       "      <td>2</td>\n",
       "    </tr>\n",
       "    <tr>\n",
       "      <th>6</th>\n",
       "      <td>Sign Bottom</td>\n",
       "      <td>7</td>\n",
       "      <td>18780</td>\n",
       "      <td>49811</td>\n",
       "      <td>45402.0</td>\n",
       "      <td>54824.0</td>\n",
       "      <td>NaN</td>\n",
       "      <td>NaN</td>\n",
       "      <td>NaN</td>\n",
       "      <td>NaN</td>\n",
       "      <td>2</td>\n",
       "    </tr>\n",
       "    <tr>\n",
       "      <th>7</th>\n",
       "      <td>Sign Top</td>\n",
       "      <td>8</td>\n",
       "      <td>41930</td>\n",
       "      <td>80323</td>\n",
       "      <td>181416.0</td>\n",
       "      <td>229852.0</td>\n",
       "      <td>NaN</td>\n",
       "      <td>NaN</td>\n",
       "      <td>NaN</td>\n",
       "      <td>NaN</td>\n",
       "      <td>2</td>\n",
       "    </tr>\n",
       "    <tr>\n",
       "      <th>8</th>\n",
       "      <td>Sign Top</td>\n",
       "      <td>9</td>\n",
       "      <td>28993</td>\n",
       "      <td>63707</td>\n",
       "      <td>13291.0</td>\n",
       "      <td>28165.0</td>\n",
       "      <td>NaN</td>\n",
       "      <td>NaN</td>\n",
       "      <td>NaN</td>\n",
       "      <td>NaN</td>\n",
       "      <td>2</td>\n",
       "    </tr>\n",
       "    <tr>\n",
       "      <th>9</th>\n",
       "      <td>Sign Bottom</td>\n",
       "      <td>10</td>\n",
       "      <td>78382</td>\n",
       "      <td>127817</td>\n",
       "      <td>NaN</td>\n",
       "      <td>NaN</td>\n",
       "      <td>NaN</td>\n",
       "      <td>NaN</td>\n",
       "      <td>NaN</td>\n",
       "      <td>NaN</td>\n",
       "      <td>1</td>\n",
       "    </tr>\n",
       "  </tbody>\n",
       "</table>\n",
       "</div>"
      ],
      "text/plain": [
       "     condition  id  baseline_motorcycle1  update_motorcycle1  \\\n",
       "0     Sign Top   1                   896               39198   \n",
       "1  Sign Bottom   2                 21396               63511   \n",
       "2  Sign Bottom   3                 21340               37460   \n",
       "3  Sign Bottom   4                 23912               59136   \n",
       "4  Sign Bottom   5                 16862               59292   \n",
       "5     Sign Top   6                147738              167895   \n",
       "6  Sign Bottom   7                 18780               49811   \n",
       "7     Sign Top   8                 41930               80323   \n",
       "8     Sign Top   9                 28993               63707   \n",
       "9  Sign Bottom  10                 78382              127817   \n",
       "\n",
       "   baseline_motorcycle2  update_motorcycle2  baseline_motorcycle3  \\\n",
       "0                   NaN                 NaN                   NaN   \n",
       "1               32659.0             47605.0                   NaN   \n",
       "2               44998.0             59002.0                   NaN   \n",
       "3                   NaN                 NaN                   NaN   \n",
       "4                   NaN                 NaN                   NaN   \n",
       "5              125820.0            164688.0                   NaN   \n",
       "6               45402.0             54824.0                   NaN   \n",
       "7              181416.0            229852.0                   NaN   \n",
       "8               13291.0             28165.0                   NaN   \n",
       "9                   NaN                 NaN                   NaN   \n",
       "\n",
       "   update_motorcycle3  baseline_motorcycle4  update_motorcycle4  \\\n",
       "0                 NaN                   NaN                 NaN   \n",
       "1                 NaN                   NaN                 NaN   \n",
       "2                 NaN                   NaN                 NaN   \n",
       "3                 NaN                   NaN                 NaN   \n",
       "4                 NaN                   NaN                 NaN   \n",
       "5                 NaN                   NaN                 NaN   \n",
       "6                 NaN                   NaN                 NaN   \n",
       "7                 NaN                   NaN                 NaN   \n",
       "8                 NaN                   NaN                 NaN   \n",
       "9                 NaN                   NaN                 NaN   \n",
       "\n",
       "   motorcycle_count  \n",
       "0                 1  \n",
       "1                 2  \n",
       "2                 2  \n",
       "3                 1  \n",
       "4                 1  \n",
       "5                 2  \n",
       "6                 2  \n",
       "7                 2  \n",
       "8                 2  \n",
       "9                 1  "
      ]
     },
     "execution_count": 110,
     "metadata": {},
     "output_type": "execute_result"
    }
   ],
   "source": [
    "DATA_FOLDER = 'Data/'\n",
    "\n",
    "POLICY_DATASET = DATA_FOLDER+\"data.tsv.gz\"\n",
    "FONTS_DATASET = DATA_FOLDER+\"fonts.csv\"\n",
    "\n",
    "policy = pd.read_csv(POLICY_DATASET, sep='\\t', on_bad_lines='warn')\n",
    "policy.head(10)"
   ]
  },
  {
   "cell_type": "code",
   "execution_count": 111,
   "metadata": {},
   "outputs": [],
   "source": [
    "# this will be used later and is placed here because rows\n",
    "#  are removed from the policy dataframe in later tasks\n",
    "original_length = len(policy.id)"
   ]
  },
  {
   "cell_type": "markdown",
   "metadata": {},
   "source": [
    "### Task 2 — 12pts\n",
    "\n",
    "As a good data scientist, the first thing you do is to clean up the data and perform some small sanity checks.\n",
    "\n",
    "1. The motorcycle insurance company mentioned that each policy has a unique identifier, but that there may be duplicate \n",
    "rows (i.e., multiple rows with the same policy identifier). Check if there are duplicate policies and, if so, filter \n",
    "these rows from the data (always keeping the first).\n",
    "\n",
    "2. According to the company, all policies should have kept the number of motorcycles from the previous contract (i.e., \n",
    "the number of motorcycles recorded in baseline contracts should equal the number of motorcycles in updated contracts). \n",
    "Also, the number of odometer readings for each contract should be the same as the number stated in the \n",
    "`motorcycle_count` variable. Check the data to see if these two things hold. If not, filter the anomalous rows.\n",
    "\n",
    "3. Calculate the mean and the median value of each column related to kilometrages. Are the values obtained plausible? \n",
    "Visualize the distribution of the data and remove any extreme outliers.\n",
    "\n",
    "4. **Discuss:** In cases where you cannot think of appropriate ways to remove outliers, would you prefer summarizing \n",
    "numerical data with outliers with the mean or the median? Why?\n",
    "\n",
    "---\n",
    "\n",
    "**Hint:** Here we are considering as outliers numbers that are not plausible in the context of motorcycle kilometrages."
   ]
  },
  {
   "cell_type": "markdown",
   "metadata": {
    "tags": []
   },
   "source": [
    "**2.1)**"
   ]
  },
  {
   "cell_type": "code",
   "execution_count": 112,
   "metadata": {},
   "outputs": [
    {
     "name": "stdout",
     "output_type": "stream",
     "text": [
      "Is the identifier unique? False\n",
      "Number of duplicates: 9\n"
     ]
    },
    {
     "data": {
      "text/html": [
       "<div>\n",
       "<style scoped>\n",
       "    .dataframe tbody tr th:only-of-type {\n",
       "        vertical-align: middle;\n",
       "    }\n",
       "\n",
       "    .dataframe tbody tr th {\n",
       "        vertical-align: top;\n",
       "    }\n",
       "\n",
       "    .dataframe thead th {\n",
       "        text-align: right;\n",
       "    }\n",
       "</style>\n",
       "<table border=\"1\" class=\"dataframe\">\n",
       "  <thead>\n",
       "    <tr style=\"text-align: right;\">\n",
       "      <th></th>\n",
       "      <th>condition</th>\n",
       "      <th>id</th>\n",
       "      <th>baseline_motorcycle1</th>\n",
       "      <th>update_motorcycle1</th>\n",
       "      <th>baseline_motorcycle2</th>\n",
       "      <th>update_motorcycle2</th>\n",
       "      <th>baseline_motorcycle3</th>\n",
       "      <th>update_motorcycle3</th>\n",
       "      <th>baseline_motorcycle4</th>\n",
       "      <th>update_motorcycle4</th>\n",
       "      <th>motorcycle_count</th>\n",
       "    </tr>\n",
       "  </thead>\n",
       "  <tbody>\n",
       "    <tr>\n",
       "      <th>12</th>\n",
       "      <td>Sign Bottom</td>\n",
       "      <td>13</td>\n",
       "      <td>93231</td>\n",
       "      <td>98047</td>\n",
       "      <td>NaN</td>\n",
       "      <td>NaN</td>\n",
       "      <td>NaN</td>\n",
       "      <td>NaN</td>\n",
       "      <td>NaN</td>\n",
       "      <td>NaN</td>\n",
       "      <td>1</td>\n",
       "    </tr>\n",
       "    <tr>\n",
       "      <th>13</th>\n",
       "      <td>Sign Bottom</td>\n",
       "      <td>14</td>\n",
       "      <td>83443</td>\n",
       "      <td>105094</td>\n",
       "      <td>NaN</td>\n",
       "      <td>NaN</td>\n",
       "      <td>NaN</td>\n",
       "      <td>NaN</td>\n",
       "      <td>NaN</td>\n",
       "      <td>NaN</td>\n",
       "      <td>1</td>\n",
       "    </tr>\n",
       "    <tr>\n",
       "      <th>14</th>\n",
       "      <td>Sign Bottom</td>\n",
       "      <td>14</td>\n",
       "      <td>83443</td>\n",
       "      <td>105094</td>\n",
       "      <td>NaN</td>\n",
       "      <td>NaN</td>\n",
       "      <td>NaN</td>\n",
       "      <td>NaN</td>\n",
       "      <td>NaN</td>\n",
       "      <td>NaN</td>\n",
       "      <td>1</td>\n",
       "    </tr>\n",
       "  </tbody>\n",
       "</table>\n",
       "</div>"
      ],
      "text/plain": [
       "      condition  id  baseline_motorcycle1  update_motorcycle1  \\\n",
       "12  Sign Bottom  13                 93231               98047   \n",
       "13  Sign Bottom  14                 83443              105094   \n",
       "14  Sign Bottom  14                 83443              105094   \n",
       "\n",
       "    baseline_motorcycle2  update_motorcycle2  baseline_motorcycle3  \\\n",
       "12                   NaN                 NaN                   NaN   \n",
       "13                   NaN                 NaN                   NaN   \n",
       "14                   NaN                 NaN                   NaN   \n",
       "\n",
       "    update_motorcycle3  baseline_motorcycle4  update_motorcycle4  \\\n",
       "12                 NaN                   NaN                 NaN   \n",
       "13                 NaN                   NaN                 NaN   \n",
       "14                 NaN                   NaN                 NaN   \n",
       "\n",
       "    motorcycle_count  \n",
       "12                 1  \n",
       "13                 1  \n",
       "14                 1  "
      ]
     },
     "execution_count": 112,
     "metadata": {},
     "output_type": "execute_result"
    }
   ],
   "source": [
    "print('Is the identifier unique?', policy.id.is_unique)\n",
    "print('Number of duplicates:', np.sum(policy.duplicated(subset='id',keep='first'))) # there are 9 duplicated\n",
    "policy.iloc[12:15]"
   ]
  },
  {
   "cell_type": "code",
   "execution_count": 113,
   "metadata": {
    "scrolled": true,
    "tags": []
   },
   "outputs": [
    {
     "data": {
      "text/html": [
       "<div>\n",
       "<style scoped>\n",
       "    .dataframe tbody tr th:only-of-type {\n",
       "        vertical-align: middle;\n",
       "    }\n",
       "\n",
       "    .dataframe tbody tr th {\n",
       "        vertical-align: top;\n",
       "    }\n",
       "\n",
       "    .dataframe thead th {\n",
       "        text-align: right;\n",
       "    }\n",
       "</style>\n",
       "<table border=\"1\" class=\"dataframe\">\n",
       "  <thead>\n",
       "    <tr style=\"text-align: right;\">\n",
       "      <th></th>\n",
       "      <th>condition</th>\n",
       "      <th>id</th>\n",
       "      <th>baseline_motorcycle1</th>\n",
       "      <th>update_motorcycle1</th>\n",
       "      <th>baseline_motorcycle2</th>\n",
       "      <th>update_motorcycle2</th>\n",
       "      <th>baseline_motorcycle3</th>\n",
       "      <th>update_motorcycle3</th>\n",
       "      <th>baseline_motorcycle4</th>\n",
       "      <th>update_motorcycle4</th>\n",
       "      <th>motorcycle_count</th>\n",
       "    </tr>\n",
       "  </thead>\n",
       "  <tbody>\n",
       "    <tr>\n",
       "      <th>12</th>\n",
       "      <td>Sign Bottom</td>\n",
       "      <td>13</td>\n",
       "      <td>93231</td>\n",
       "      <td>98047</td>\n",
       "      <td>NaN</td>\n",
       "      <td>NaN</td>\n",
       "      <td>NaN</td>\n",
       "      <td>NaN</td>\n",
       "      <td>NaN</td>\n",
       "      <td>NaN</td>\n",
       "      <td>1</td>\n",
       "    </tr>\n",
       "    <tr>\n",
       "      <th>13</th>\n",
       "      <td>Sign Bottom</td>\n",
       "      <td>14</td>\n",
       "      <td>83443</td>\n",
       "      <td>105094</td>\n",
       "      <td>NaN</td>\n",
       "      <td>NaN</td>\n",
       "      <td>NaN</td>\n",
       "      <td>NaN</td>\n",
       "      <td>NaN</td>\n",
       "      <td>NaN</td>\n",
       "      <td>1</td>\n",
       "    </tr>\n",
       "    <tr>\n",
       "      <th>15</th>\n",
       "      <td>Sign Bottom</td>\n",
       "      <td>15</td>\n",
       "      <td>22008</td>\n",
       "      <td>26486</td>\n",
       "      <td>NaN</td>\n",
       "      <td>NaN</td>\n",
       "      <td>NaN</td>\n",
       "      <td>NaN</td>\n",
       "      <td>NaN</td>\n",
       "      <td>NaN</td>\n",
       "      <td>1</td>\n",
       "    </tr>\n",
       "  </tbody>\n",
       "</table>\n",
       "</div>"
      ],
      "text/plain": [
       "      condition  id  baseline_motorcycle1  update_motorcycle1  \\\n",
       "12  Sign Bottom  13                 93231               98047   \n",
       "13  Sign Bottom  14                 83443              105094   \n",
       "15  Sign Bottom  15                 22008               26486   \n",
       "\n",
       "    baseline_motorcycle2  update_motorcycle2  baseline_motorcycle3  \\\n",
       "12                   NaN                 NaN                   NaN   \n",
       "13                   NaN                 NaN                   NaN   \n",
       "15                   NaN                 NaN                   NaN   \n",
       "\n",
       "    update_motorcycle3  baseline_motorcycle4  update_motorcycle4  \\\n",
       "12                 NaN                   NaN                 NaN   \n",
       "13                 NaN                   NaN                 NaN   \n",
       "15                 NaN                   NaN                 NaN   \n",
       "\n",
       "    motorcycle_count  \n",
       "12                 1  \n",
       "13                 1  \n",
       "15                 1  "
      ]
     },
     "execution_count": 113,
     "metadata": {},
     "output_type": "execute_result"
    }
   ],
   "source": [
    "policy.drop_duplicates(subset='id',keep='first',inplace=True)\n",
    "policy.iloc[12:15]"
   ]
  },
  {
   "cell_type": "markdown",
   "metadata": {},
   "source": [
    "We see above that the duplicates in row 13 and 14 has been removed and the first datapoint was kept (row 13)"
   ]
  },
  {
   "cell_type": "code",
   "execution_count": 114,
   "metadata": {},
   "outputs": [
    {
     "name": "stdout",
     "output_type": "stream",
     "text": [
      "The raw dataset contained 13497 rows and the one free from duplicates has now 13488 rows\n"
     ]
    }
   ],
   "source": [
    "# sanity check \n",
    "print('The raw dataset contained {:2} rows and the one free from duplicates has now {:2} rows'.format(original_length,len(policy.id)))"
   ]
  },
  {
   "cell_type": "markdown",
   "metadata": {
    "tags": []
   },
   "source": [
    "**2.2)**"
   ]
  },
  {
   "cell_type": "code",
   "execution_count": 115,
   "metadata": {
    "tags": []
   },
   "outputs": [
    {
     "name": "stdout",
     "output_type": "stream",
     "text": [
      "Is the number of declared motorcycles consistent between the baseline and the updated contract? True\n",
      "Number of policies having a wrong number of stated motorcycles: 0\n",
      "No filtering is needed\n"
     ]
    }
   ],
   "source": [
    "nb_moto_baseline = policy[[\"baseline_motorcycle1\", \"baseline_motorcycle2\", \"baseline_motorcycle3\", \"baseline_motorcycle4\"]].notnull().sum(axis=1)\n",
    "nb_moto_update = policy[[\"update_motorcycle1\", \"update_motorcycle2\", \"update_motorcycle3\", \"update_motorcycle4\"]].notnull().sum(axis=1)\n",
    "\n",
    "print('Is the number of declared motorcycles consistent between the baseline and the updated contract?', all(nb_moto_baseline == nb_moto_update))\n",
    "\n",
    "print('Number of policies having a wrong number of stated motorcycles:', sum(nb_moto_baseline != policy[\"motorcycle_count\"])) # there are 0 rows\n",
    "print('No filtering is needed')"
   ]
  },
  {
   "cell_type": "markdown",
   "metadata": {},
   "source": [
    "**2.3)**"
   ]
  },
  {
   "cell_type": "code",
   "execution_count": 116,
   "metadata": {},
   "outputs": [
    {
     "data": {
      "text/html": [
       "<div>\n",
       "<style scoped>\n",
       "    .dataframe tbody tr th:only-of-type {\n",
       "        vertical-align: middle;\n",
       "    }\n",
       "\n",
       "    .dataframe tbody tr th {\n",
       "        vertical-align: top;\n",
       "    }\n",
       "\n",
       "    .dataframe thead th {\n",
       "        text-align: right;\n",
       "    }\n",
       "</style>\n",
       "<table border=\"1\" class=\"dataframe\">\n",
       "  <thead>\n",
       "    <tr style=\"text-align: right;\">\n",
       "      <th></th>\n",
       "      <th>baseline_motorcycle1</th>\n",
       "      <th>update_motorcycle1</th>\n",
       "      <th>baseline_motorcycle2</th>\n",
       "      <th>update_motorcycle2</th>\n",
       "      <th>baseline_motorcycle3</th>\n",
       "      <th>update_motorcycle3</th>\n",
       "      <th>baseline_motorcycle4</th>\n",
       "      <th>update_motorcycle4</th>\n",
       "    </tr>\n",
       "  </thead>\n",
       "  <tbody>\n",
       "    <tr>\n",
       "      <th>mean</th>\n",
       "      <td>7.413998e+14</td>\n",
       "      <td>7.413998e+14</td>\n",
       "      <td>67325.967422</td>\n",
       "      <td>92277.633144</td>\n",
       "      <td>67657.320282</td>\n",
       "      <td>92849.408771</td>\n",
       "      <td>67827.97546</td>\n",
       "      <td>93374.279141</td>\n",
       "    </tr>\n",
       "    <tr>\n",
       "      <th>50%</th>\n",
       "      <td>5.634150e+04</td>\n",
       "      <td>8.239750e+04</td>\n",
       "      <td>56157.500000</td>\n",
       "      <td>82061.000000</td>\n",
       "      <td>58821.000000</td>\n",
       "      <td>85645.000000</td>\n",
       "      <td>68181.00000</td>\n",
       "      <td>93387.500000</td>\n",
       "    </tr>\n",
       "  </tbody>\n",
       "</table>\n",
       "</div>"
      ],
      "text/plain": [
       "      baseline_motorcycle1  update_motorcycle1  baseline_motorcycle2  \\\n",
       "mean          7.413998e+14        7.413998e+14          67325.967422   \n",
       "50%           5.634150e+04        8.239750e+04          56157.500000   \n",
       "\n",
       "      update_motorcycle2  baseline_motorcycle3  update_motorcycle3  \\\n",
       "mean        92277.633144          67657.320282        92849.408771   \n",
       "50%         82061.000000          58821.000000        85645.000000   \n",
       "\n",
       "      baseline_motorcycle4  update_motorcycle4  \n",
       "mean           67827.97546        93374.279141  \n",
       "50%            68181.00000        93387.500000  "
      ]
     },
     "execution_count": 116,
     "metadata": {},
     "output_type": "execute_result"
    }
   ],
   "source": [
    "# The means of the kilometrage for the first motorcycle are much bigger than their respective median (10^14 >> 10^4)\n",
    "# The ratio of the two values higlight the difference for motorcycle 1\n",
    "policy_kilometrages=policy[[\"baseline_motorcycle1\",\"update_motorcycle1\", \"baseline_motorcycle2\", \"update_motorcycle2\", \"baseline_motorcycle3\", \"update_motorcycle3\",\"baseline_motorcycle4\",\"update_motorcycle4\"]]\n",
    "\n",
    "policy_desc = policy_kilometrages.describe()\n",
    "policy_desc.loc[[\"mean\", \"50%\"]]"
   ]
  },
  {
   "cell_type": "code",
   "execution_count": 117,
   "metadata": {},
   "outputs": [
    {
     "name": "stdout",
     "output_type": "stream",
     "text": [
      "The ratio between the mean and median for baseline and updated motorcycle kilometrages, 1.315903e+10 and 8.997843e+09 are not plausible\n"
     ]
    }
   ],
   "source": [
    "ratios = policy_desc.loc['mean'] / policy_desc.loc['50%']\n",
    "print('The ratio between the mean and median for baseline and updated motorcycle kilometrages, {:e} and {:e} are not plausible'.format(ratios.baseline_motorcycle1,ratios.update_motorcycle1))"
   ]
  },
  {
   "cell_type": "code",
   "execution_count": 118,
   "metadata": {},
   "outputs": [
    {
     "data": {
      "image/png": "[encoded data removed]",
      "text/plain": [
       "<Figure size 720x432 with 1 Axes>"
      ]
     },
     "metadata": {
      "needs_background": "light"
     },
     "output_type": "display_data"
    },
    {
     "data": {
      "image/png": "[encoded data removed]",
      "text/plain": [
       "<Figure size 720x432 with 1 Axes>"
      ]
     },
     "metadata": {
      "needs_background": "light"
     },
     "output_type": "display_data"
    }
   ],
   "source": [
    "# Visualizing the data\n",
    "# There seems to be at least one outlier in the data for both the baseline and the updated contract\n",
    "policy['baseline_motorcycle1'].hist(bins = 100, log=True, figsize=(10, 6))\n",
    "plt.xlabel('Stated kilometrage in the contract')\n",
    "plt.ylabel('Number of contracts')\n",
    "plt.title('Baseline contract motorcycle 1, histogram');\n",
    "plt.show()\n",
    "\n",
    "policy['update_motorcycle1'].hist(bins = 100, log=True, figsize=(10, 6))\n",
    "plt.xlabel('Stated kilometrage in the contract')\n",
    "plt.ylabel('Number of contracts')\n",
    "plt.title('Updated contract motorcycle 1, histogram');\n",
    "plt.show()"
   ]
  },
  {
   "cell_type": "code",
   "execution_count": 119,
   "metadata": {},
   "outputs": [
    {
     "data": {
      "text/plain": [
       "13228"
      ]
     },
     "execution_count": 119,
     "metadata": {},
     "output_type": "execute_result"
    }
   ],
   "source": [
    "# the index of the outlier\n",
    "policy[\"baseline_motorcycle1\"].idxmax()"
   ]
  },
  {
   "cell_type": "code",
   "execution_count": 120,
   "metadata": {},
   "outputs": [
    {
     "data": {
      "text/html": [
       "<div>\n",
       "<style scoped>\n",
       "    .dataframe tbody tr th:only-of-type {\n",
       "        vertical-align: middle;\n",
       "    }\n",
       "\n",
       "    .dataframe tbody tr th {\n",
       "        vertical-align: top;\n",
       "    }\n",
       "\n",
       "    .dataframe thead th {\n",
       "        text-align: right;\n",
       "    }\n",
       "</style>\n",
       "<table border=\"1\" class=\"dataframe\">\n",
       "  <thead>\n",
       "    <tr style=\"text-align: right;\">\n",
       "      <th></th>\n",
       "      <th>baseline_motorcycle1</th>\n",
       "      <th>update_motorcycle1</th>\n",
       "      <th>baseline_motorcycle2</th>\n",
       "      <th>update_motorcycle2</th>\n",
       "      <th>baseline_motorcycle3</th>\n",
       "      <th>update_motorcycle3</th>\n",
       "      <th>baseline_motorcycle4</th>\n",
       "      <th>update_motorcycle4</th>\n",
       "    </tr>\n",
       "  </thead>\n",
       "  <tbody>\n",
       "    <tr>\n",
       "      <th>mean</th>\n",
       "      <td>67345.119457</td>\n",
       "      <td>92275.012012</td>\n",
       "      <td>67326.871436</td>\n",
       "      <td>92276.41739</td>\n",
       "      <td>67657.320282</td>\n",
       "      <td>92849.408771</td>\n",
       "      <td>67827.97546</td>\n",
       "      <td>93374.279141</td>\n",
       "    </tr>\n",
       "    <tr>\n",
       "      <th>50%</th>\n",
       "      <td>56341.500000</td>\n",
       "      <td>82382.000000</td>\n",
       "      <td>56157.000000</td>\n",
       "      <td>82056.00000</td>\n",
       "      <td>58821.000000</td>\n",
       "      <td>85645.000000</td>\n",
       "      <td>68181.00000</td>\n",
       "      <td>93387.500000</td>\n",
       "    </tr>\n",
       "  </tbody>\n",
       "</table>\n",
       "</div>"
      ],
      "text/plain": [
       "      baseline_motorcycle1  update_motorcycle1  baseline_motorcycle2  \\\n",
       "mean          67345.119457        92275.012012          67326.871436   \n",
       "50%           56341.500000        82382.000000          56157.000000   \n",
       "\n",
       "      update_motorcycle2  baseline_motorcycle3  update_motorcycle3  \\\n",
       "mean         92276.41739          67657.320282        92849.408771   \n",
       "50%          82056.00000          58821.000000        85645.000000   \n",
       "\n",
       "      baseline_motorcycle4  update_motorcycle4  \n",
       "mean           67827.97546        93374.279141  \n",
       "50%            68181.00000        93387.500000  "
      ]
     },
     "execution_count": 120,
     "metadata": {},
     "output_type": "execute_result"
    }
   ],
   "source": [
    "# Removing the outlier data points\n",
    "policy.drop(policy[\"baseline_motorcycle1\"].idxmax(), inplace=True)\n",
    "policy.drop(policy[\"update_motorcycle1\"].idxmax(), inplace=True)\n",
    "\n",
    "policy_kilometrages=policy[[\"baseline_motorcycle1\",\"update_motorcycle1\", \"baseline_motorcycle2\", \"update_motorcycle2\", \"baseline_motorcycle3\", \"update_motorcycle3\",\"baseline_motorcycle4\",\"update_motorcycle4\"]]\n",
    "\n",
    "# The means and the median are now of the same magnitude\n",
    "policy_desc = policy_kilometrages.describe().loc[[\"mean\", \"50%\"]]\n",
    "policy_desc.head()"
   ]
  },
  {
   "cell_type": "code",
   "execution_count": 121,
   "metadata": {},
   "outputs": [
    {
     "data": {
      "text/plain": [
       "baseline_motorcycle1    1.195302\n",
       "update_motorcycle1      1.120087\n",
       "baseline_motorcycle2    1.198904\n",
       "update_motorcycle2      1.124554\n",
       "baseline_motorcycle3    1.150224\n",
       "update_motorcycle3      1.084119\n",
       "baseline_motorcycle4    0.994822\n",
       "update_motorcycle4      0.999858\n",
       "dtype: float64"
      ]
     },
     "execution_count": 121,
     "metadata": {},
     "output_type": "execute_result"
    }
   ],
   "source": [
    "# printing the ratios between mean and std after removing the outliers\n",
    "policy_desc.loc['mean'] / policy_desc.loc['50%']"
   ]
  },
  {
   "cell_type": "code",
   "execution_count": 122,
   "metadata": {},
   "outputs": [
    {
     "data": {
      "image/png": "[encoded data removed]",
      "text/plain": [
       "<Figure size 720x432 with 1 Axes>"
      ]
     },
     "metadata": {
      "needs_background": "light"
     },
     "output_type": "display_data"
    },
    {
     "data": {
      "image/png": "[encoded data removed]",
      "text/plain": [
       "<Figure size 720x432 with 1 Axes>"
      ]
     },
     "metadata": {
      "needs_background": "light"
     },
     "output_type": "display_data"
    }
   ],
   "source": [
    "# Visualizing the data without the outliers\n",
    "# The entire distributions stands now in the two histograms\n",
    "policy['baseline_motorcycle1'].hist(bins = 100, log=True, figsize=(10, 6))\n",
    "plt.xlabel('Stated kilometrage in the contract')\n",
    "plt.ylabel('Number of contracts')\n",
    "plt.title('Baseline motorcycle 1 without extreme values, histogram');\n",
    "plt.show()\n",
    "\n",
    "policy['update_motorcycle1'].hist(bins = 100, log=True, figsize=(10, 6))\n",
    "plt.xlabel('Stated kilometrage in the contract')\n",
    "plt.ylabel('Number of contracts')\n",
    "plt.title('Updated motorcycle 1 without extreme values, histogram');\n",
    "plt.show()"
   ]
  },
  {
   "cell_type": "markdown",
   "metadata": {},
   "source": [
    "**2.4)** **Discuss Answer** :  It would be better to summarize with the median because it is more robust to outliers, the mean varies more with regard to outlier compared to the median which would change of only one sample maximum if an outlier was introduced."
   ]
  },
  {
   "cell_type": "markdown",
   "metadata": {},
   "source": [
    "### Task 3 — 12pts\n",
    "\n",
    "One of the challenges with the current data is that it is not clear how to handle policies with multiple motorcycles.\n",
    "\n",
    "1. Create three additional columns in the dataframe, `baseline_average`, `update_average`, and `diff_average`. These \n",
    "should contain, respectively, the average value for `baseline_motorcycle[1-4]` for all motorcycles insured; the average\n",
    " value for `update_motorcycle[1-4]`; and the difference between the average updated value and the average baseline \n",
    " value.\n",
    "2. **Discuss:** Propose another way of aggregating distinct motorcycles from a single policy. Point out a way in which \n",
    "this aggregation may be either better or worse than taking the average for the purpose of comparing the two scenarios in\n",
    " the study (sign at the top vs. sign at the bottom).\n",
    "3. To get a sense of the impact that policies with multiple motorcycles may have in the study, let's perform some \n",
    "additional analyses. Plot the distribution of motorcycles per policy in the data. Your plot should allow for the \n",
    "meaningful comparison of the values shown.\n",
    "4. In 3.1, you calculated the average kilometrage for each policy for the updated contract. Calculate the mean and the \n",
    "standard deviation of these values (which should be in the column `update_average`).\n",
    "5. Another meaningful metric is the average kilometrage **per motorcycle**, not distinguishing motorcycles in different \n",
    "policies (i.e., pooled across policies). **Considering only policies with 4 motorcycles insured,** calculate the mean \n",
    "and the standard deviation of the kilometrage per motorcycle in the updated contract.\n",
    "6. **Discuss:** To analyze whether signing at the top decreases dishonesty, we could consider the data in different \n",
    "ways. We could first calculate the average value per motorcycle within each policy and have one data point per policy \n",
    "**or** we could analyze the data at the motorcycle level and have one data point per motorcycle in the dataset. \n",
    "According to questions 3.4 and 3.5, how may this decision influence the results of the study?\n",
    "---"
   ]
  },
  {
   "cell_type": "markdown",
   "metadata": {},
   "source": [
    "**3.1)**"
   ]
  },
  {
   "cell_type": "code",
   "execution_count": 123,
   "metadata": {
    "tags": []
   },
   "outputs": [
    {
     "data": {
      "text/html": [
       "<div>\n",
       "<style scoped>\n",
       "    .dataframe tbody tr th:only-of-type {\n",
       "        vertical-align: middle;\n",
       "    }\n",
       "\n",
       "    .dataframe tbody tr th {\n",
       "        vertical-align: top;\n",
       "    }\n",
       "\n",
       "    .dataframe thead th {\n",
       "        text-align: right;\n",
       "    }\n",
       "</style>\n",
       "<table border=\"1\" class=\"dataframe\">\n",
       "  <thead>\n",
       "    <tr style=\"text-align: right;\">\n",
       "      <th></th>\n",
       "      <th>condition</th>\n",
       "      <th>id</th>\n",
       "      <th>baseline_motorcycle1</th>\n",
       "      <th>update_motorcycle1</th>\n",
       "      <th>baseline_motorcycle2</th>\n",
       "      <th>update_motorcycle2</th>\n",
       "      <th>baseline_motorcycle3</th>\n",
       "      <th>update_motorcycle3</th>\n",
       "      <th>baseline_motorcycle4</th>\n",
       "      <th>update_motorcycle4</th>\n",
       "      <th>motorcycle_count</th>\n",
       "      <th>baseline_average</th>\n",
       "      <th>update_average</th>\n",
       "      <th>diff_average</th>\n",
       "    </tr>\n",
       "  </thead>\n",
       "  <tbody>\n",
       "    <tr>\n",
       "      <th>0</th>\n",
       "      <td>Sign Top</td>\n",
       "      <td>1</td>\n",
       "      <td>896</td>\n",
       "      <td>39198</td>\n",
       "      <td>NaN</td>\n",
       "      <td>NaN</td>\n",
       "      <td>NaN</td>\n",
       "      <td>NaN</td>\n",
       "      <td>NaN</td>\n",
       "      <td>NaN</td>\n",
       "      <td>1</td>\n",
       "      <td>896.0</td>\n",
       "      <td>39198.0</td>\n",
       "      <td>38302.0</td>\n",
       "    </tr>\n",
       "    <tr>\n",
       "      <th>1</th>\n",
       "      <td>Sign Bottom</td>\n",
       "      <td>2</td>\n",
       "      <td>21396</td>\n",
       "      <td>63511</td>\n",
       "      <td>32659.0</td>\n",
       "      <td>47605.0</td>\n",
       "      <td>NaN</td>\n",
       "      <td>NaN</td>\n",
       "      <td>NaN</td>\n",
       "      <td>NaN</td>\n",
       "      <td>2</td>\n",
       "      <td>27027.5</td>\n",
       "      <td>55558.0</td>\n",
       "      <td>28530.5</td>\n",
       "    </tr>\n",
       "    <tr>\n",
       "      <th>2</th>\n",
       "      <td>Sign Bottom</td>\n",
       "      <td>3</td>\n",
       "      <td>21340</td>\n",
       "      <td>37460</td>\n",
       "      <td>44998.0</td>\n",
       "      <td>59002.0</td>\n",
       "      <td>NaN</td>\n",
       "      <td>NaN</td>\n",
       "      <td>NaN</td>\n",
       "      <td>NaN</td>\n",
       "      <td>2</td>\n",
       "      <td>33169.0</td>\n",
       "      <td>48231.0</td>\n",
       "      <td>15062.0</td>\n",
       "    </tr>\n",
       "    <tr>\n",
       "      <th>3</th>\n",
       "      <td>Sign Bottom</td>\n",
       "      <td>4</td>\n",
       "      <td>23912</td>\n",
       "      <td>59136</td>\n",
       "      <td>NaN</td>\n",
       "      <td>NaN</td>\n",
       "      <td>NaN</td>\n",
       "      <td>NaN</td>\n",
       "      <td>NaN</td>\n",
       "      <td>NaN</td>\n",
       "      <td>1</td>\n",
       "      <td>23912.0</td>\n",
       "      <td>59136.0</td>\n",
       "      <td>35224.0</td>\n",
       "    </tr>\n",
       "    <tr>\n",
       "      <th>4</th>\n",
       "      <td>Sign Bottom</td>\n",
       "      <td>5</td>\n",
       "      <td>16862</td>\n",
       "      <td>59292</td>\n",
       "      <td>NaN</td>\n",
       "      <td>NaN</td>\n",
       "      <td>NaN</td>\n",
       "      <td>NaN</td>\n",
       "      <td>NaN</td>\n",
       "      <td>NaN</td>\n",
       "      <td>1</td>\n",
       "      <td>16862.0</td>\n",
       "      <td>59292.0</td>\n",
       "      <td>42430.0</td>\n",
       "    </tr>\n",
       "    <tr>\n",
       "      <th>5</th>\n",
       "      <td>Sign Top</td>\n",
       "      <td>6</td>\n",
       "      <td>147738</td>\n",
       "      <td>167895</td>\n",
       "      <td>125820.0</td>\n",
       "      <td>164688.0</td>\n",
       "      <td>NaN</td>\n",
       "      <td>NaN</td>\n",
       "      <td>NaN</td>\n",
       "      <td>NaN</td>\n",
       "      <td>2</td>\n",
       "      <td>136779.0</td>\n",
       "      <td>166291.5</td>\n",
       "      <td>29512.5</td>\n",
       "    </tr>\n",
       "    <tr>\n",
       "      <th>6</th>\n",
       "      <td>Sign Bottom</td>\n",
       "      <td>7</td>\n",
       "      <td>18780</td>\n",
       "      <td>49811</td>\n",
       "      <td>45402.0</td>\n",
       "      <td>54824.0</td>\n",
       "      <td>NaN</td>\n",
       "      <td>NaN</td>\n",
       "      <td>NaN</td>\n",
       "      <td>NaN</td>\n",
       "      <td>2</td>\n",
       "      <td>32091.0</td>\n",
       "      <td>52317.5</td>\n",
       "      <td>20226.5</td>\n",
       "    </tr>\n",
       "    <tr>\n",
       "      <th>7</th>\n",
       "      <td>Sign Top</td>\n",
       "      <td>8</td>\n",
       "      <td>41930</td>\n",
       "      <td>80323</td>\n",
       "      <td>181416.0</td>\n",
       "      <td>229852.0</td>\n",
       "      <td>NaN</td>\n",
       "      <td>NaN</td>\n",
       "      <td>NaN</td>\n",
       "      <td>NaN</td>\n",
       "      <td>2</td>\n",
       "      <td>111673.0</td>\n",
       "      <td>155087.5</td>\n",
       "      <td>43414.5</td>\n",
       "    </tr>\n",
       "    <tr>\n",
       "      <th>8</th>\n",
       "      <td>Sign Top</td>\n",
       "      <td>9</td>\n",
       "      <td>28993</td>\n",
       "      <td>63707</td>\n",
       "      <td>13291.0</td>\n",
       "      <td>28165.0</td>\n",
       "      <td>NaN</td>\n",
       "      <td>NaN</td>\n",
       "      <td>NaN</td>\n",
       "      <td>NaN</td>\n",
       "      <td>2</td>\n",
       "      <td>21142.0</td>\n",
       "      <td>45936.0</td>\n",
       "      <td>24794.0</td>\n",
       "    </tr>\n",
       "    <tr>\n",
       "      <th>9</th>\n",
       "      <td>Sign Bottom</td>\n",
       "      <td>10</td>\n",
       "      <td>78382</td>\n",
       "      <td>127817</td>\n",
       "      <td>NaN</td>\n",
       "      <td>NaN</td>\n",
       "      <td>NaN</td>\n",
       "      <td>NaN</td>\n",
       "      <td>NaN</td>\n",
       "      <td>NaN</td>\n",
       "      <td>1</td>\n",
       "      <td>78382.0</td>\n",
       "      <td>127817.0</td>\n",
       "      <td>49435.0</td>\n",
       "    </tr>\n",
       "  </tbody>\n",
       "</table>\n",
       "</div>"
      ],
      "text/plain": [
       "     condition  id  baseline_motorcycle1  update_motorcycle1  \\\n",
       "0     Sign Top   1                   896               39198   \n",
       "1  Sign Bottom   2                 21396               63511   \n",
       "2  Sign Bottom   3                 21340               37460   \n",
       "3  Sign Bottom   4                 23912               59136   \n",
       "4  Sign Bottom   5                 16862               59292   \n",
       "5     Sign Top   6                147738              167895   \n",
       "6  Sign Bottom   7                 18780               49811   \n",
       "7     Sign Top   8                 41930               80323   \n",
       "8     Sign Top   9                 28993               63707   \n",
       "9  Sign Bottom  10                 78382              127817   \n",
       "\n",
       "   baseline_motorcycle2  update_motorcycle2  baseline_motorcycle3  \\\n",
       "0                   NaN                 NaN                   NaN   \n",
       "1               32659.0             47605.0                   NaN   \n",
       "2               44998.0             59002.0                   NaN   \n",
       "3                   NaN                 NaN                   NaN   \n",
       "4                   NaN                 NaN                   NaN   \n",
       "5              125820.0            164688.0                   NaN   \n",
       "6               45402.0             54824.0                   NaN   \n",
       "7              181416.0            229852.0                   NaN   \n",
       "8               13291.0             28165.0                   NaN   \n",
       "9                   NaN                 NaN                   NaN   \n",
       "\n",
       "   update_motorcycle3  baseline_motorcycle4  update_motorcycle4  \\\n",
       "0                 NaN                   NaN                 NaN   \n",
       "1                 NaN                   NaN                 NaN   \n",
       "2                 NaN                   NaN                 NaN   \n",
       "3                 NaN                   NaN                 NaN   \n",
       "4                 NaN                   NaN                 NaN   \n",
       "5                 NaN                   NaN                 NaN   \n",
       "6                 NaN                   NaN                 NaN   \n",
       "7                 NaN                   NaN                 NaN   \n",
       "8                 NaN                   NaN                 NaN   \n",
       "9                 NaN                   NaN                 NaN   \n",
       "\n",
       "   motorcycle_count  baseline_average  update_average  diff_average  \n",
       "0                 1             896.0         39198.0       38302.0  \n",
       "1                 2           27027.5         55558.0       28530.5  \n",
       "2                 2           33169.0         48231.0       15062.0  \n",
       "3                 1           23912.0         59136.0       35224.0  \n",
       "4                 1           16862.0         59292.0       42430.0  \n",
       "5                 2          136779.0        166291.5       29512.5  \n",
       "6                 2           32091.0         52317.5       20226.5  \n",
       "7                 2          111673.0        155087.5       43414.5  \n",
       "8                 2           21142.0         45936.0       24794.0  \n",
       "9                 1           78382.0        127817.0       49435.0  "
      ]
     },
     "execution_count": 123,
     "metadata": {},
     "output_type": "execute_result"
    }
   ],
   "source": [
    "# 1.Create additional columns\n",
    "policy['baseline_average']=policy[['baseline_motorcycle1','baseline_motorcycle2','baseline_motorcycle3','baseline_motorcycle4']].mean(axis=1)\n",
    "policy['update_average']=policy[['update_motorcycle1','update_motorcycle2','update_motorcycle3','update_motorcycle4']].mean(axis=1)\n",
    "policy['diff_average']=policy['update_average']-policy['baseline_average']\n",
    "policy.head(10)"
   ]
  },
  {
   "cell_type": "markdown",
   "metadata": {},
   "source": [
    "**3.2)** **Discuss**  \n",
    "\n",
    "A possibility would be to take the median value of the baseline kilometrages and substract it to the median value of the updated kilometrages. This value would be robust to outliers ( we only removed the extreme outliers). For instance if there was an outlier in a policy the  average value would be  influenced by it and this could lead to wrong conclusions during the comparison."
   ]
  },
  {
   "cell_type": "markdown",
   "metadata": {},
   "source": [
    "**3.3)**"
   ]
  },
  {
   "cell_type": "code",
   "execution_count": 124,
   "metadata": {
    "tags": []
   },
   "outputs": [
    {
     "data": {
      "image/png": "[encoded data removed]",
      "text/plain": [
       "<Figure size 432x288 with 1 Axes>"
      ]
     },
     "metadata": {
      "needs_background": "light"
     },
     "output_type": "display_data"
    }
   ],
   "source": [
    "# 3. Distribution of motorcycles per policy\n",
    "# How many policies have 1, 2, 3 or 4 motorcycles \n",
    "ax = sns.countplot(x=policy['motorcycle_count'])\n",
    "plt.title('Distribution of motorcycles per policy')\n",
    "plt.xlabel('Motorcycles per policy')\n",
    "plt.ylabel('Number of policies')\n",
    "\n",
    "# add the percentages to the plot\n",
    "percentage = policy['motorcycle_count'].value_counts(normalize=True).mul(100) #this is a dataframe\n",
    "i = 1\n",
    "for p in ax.patches:\n",
    "    per = '{:.2f}%\\n'.format(percentage[i])\n",
    "    x = p.get_x() + p.get_width() / 2\n",
    "    y = p.get_height()\n",
    "    ax.annotate(per, (x,y), ha='center', va='center')\n",
    "    i = i+1\n",
    "    "
   ]
  },
  {
   "cell_type": "markdown",
   "metadata": {},
   "source": [
    "To visualise the distribution more thoroughly we decided to add a pie chart since it is easier to see how the data is split. Nevertheless the bar plot gives additional information since it indicates the number of policies."
   ]
  },
  {
   "cell_type": "code",
   "execution_count": 125,
   "metadata": {
    "tags": []
   },
   "outputs": [
    {
     "data": {
      "image/png": "[encoded data removed]",
      "text/plain": [
       "<Figure size 432x288 with 1 Axes>"
      ]
     },
     "metadata": {},
     "output_type": "display_data"
    }
   ],
   "source": [
    "plt.pie(percentage,labels=['1 motorcycle','2 motorcycles','3 motorcycles','4 motorcycles'],autopct='%.0f%%')\n",
    "plt.title('Distribution of motorcycles per policy')\n",
    "plt.show()"
   ]
  },
  {
   "cell_type": "markdown",
   "metadata": {},
   "source": [
    "**3.4)**"
   ]
  },
  {
   "cell_type": "code",
   "execution_count": 126,
   "metadata": {},
   "outputs": [
    {
     "name": "stdout",
     "output_type": "stream",
     "text": [
      "The mean and standar deviation of the updated average kilometrage for each policy:\n",
      "mean    92166.980090\n",
      "std     52212.864277\n"
     ]
    }
   ],
   "source": [
    "#4 Mean and standard deviation of updated average kilometrage for each policy \n",
    "print(\"The mean and standar deviation of the updated average kilometrage for each policy:\")\n",
    "print(policy['update_average'].describe().loc[['mean','std']].to_string())"
   ]
  },
  {
   "cell_type": "markdown",
   "metadata": {},
   "source": [
    "**3.5)**"
   ]
  },
  {
   "cell_type": "code",
   "execution_count": 127,
   "metadata": {},
   "outputs": [
    {
     "name": "stdout",
     "output_type": "stream",
     "text": [
      "The average and standard deviation of the kilometrage for all the motorcycles is :\n",
      "mean    113443.863636\n",
      "std    83148.461506\n"
     ]
    }
   ],
   "source": [
    "#5 mean and standard deviation kilometrage for updated contracts per motorcycle (for policies with 4 motorcycles)\n",
    "pol_4_mc = policy[policy['motorcycle_count']==4]\n",
    "\n",
    "# pooling the motorcycle kilometrages into one series\n",
    "pooled_mc=pol_4_mc[['update_motorcycle1','update_motorcycle2','update_motorcycle3','update_motorcycle4']].stack()\n",
    "pooled_mc.describe().loc[['mean','std']]\n",
    "\n",
    "print('The average and standard deviation of the kilometrage for all the motorcycles is :')\n",
    "print(pooled_mc.describe().loc[['mean']].to_string())\n",
    "\n",
    "print(pooled_mc.describe().loc[['std']].to_string())"
   ]
  },
  {
   "cell_type": "markdown",
   "metadata": {},
   "source": [
    "**3.6)**\n",
    "\n",
    "In theory if every motorycle kilometrage followed the same distribution we should have the same mean and standard deviation for both methods of calculation, but it is possible that each motorcycle (1 to 4) follows a different distribution. For instance, maybe on average a customer uses their last insured motorycle more than their first one if it is more recent.  \n",
    "\n",
    "Since the first method takes the average of averages, policies that only have one motorcycle have the same \"weight\" as policies that have 4 motorcycles. This might skew the average to be closer to what policies with single motorcycles have.\n",
    "\n",
    "Additionally, when taking one datapoint per policy, if a customer was dishonest in his kilometrage measurements, and had 4 motorcycles, he will only contribute \"once\" to the global average. But if we take one data point per motorcycle, this customer will have 4 times more influence on the average since every motorcycle has the same \"weight\" in the average and std calculation"
   ]
  },
  {
   "cell_type": "markdown",
   "metadata": {},
   "source": [
    "### Task 4 — 18pts\n",
    "\n",
    "Now that we have compressed the kilometrage reported in each contract into a single number, it is time to analyze the \n",
    "million-dollar question: *does signing at the top decrease dishonesty?*\n",
    "\n",
    "1. Considering the updated contracts, calculate the mean and the standard deviation of the average kilometrage in a) \n",
    "policies where the signing was done at the bottom; and b) policies where the signing was done at the top. Additionally,\n",
    "plot the two kilometrage distributions.\n",
    "2. Determine whether the difference between the two scenarios mentioned in 1. is statistically significant.\n",
    "3. **Discuss:** Recall that the assignment of the different contracts (*sign at the top* vs. *sign at the bottom*) was \n",
    "done at random. According to the results in 1. and 2., does signing at the top decrease dishonesty? \n",
    "4.  **Discuss:** Given that no intervention was performed in the baseline contract (i.e., everyone signed at the \n",
    "bottom). Would you expect any differences between the average values between *sign at the top* vs. *sign at the bottom*\n",
    " conditions for the baseline contract? Note that this is related to columns `baseline_motorcycle[1-4]`.\n",
    "5. Calculate the mean and the standard deviation for the baseline contracts of the two groups (sign at the top vs. sign \n",
    "at the bottom). Additionally, plot the two kilometrage distributions.\n",
    "6. Determine whether the difference between the two scenarios mentioned in 5. is statistically significant.\n",
    "\n",
    "---\n",
    "\n",
    "**Hint:** Recall that the column `condition` encodes the experimental condition in which the customer fell when \n",
    "reporting the values shown in columns `update_motorcycle[1-4]`!\n",
    "\n",
    "**Hint:** To determine if the means of two sets of data are significantly different from each other, you may want to use\n",
    " the `ttest_ind` function implemented in the \n",
    " [scipy library](https://docs.scipy.org/doc/scipy/reference/generated/scipy.stats.ttest_ind.html). To learn more about \n",
    " Student's t-test, check out this [Wikipedia page](https://en.wikipedia.org/wiki/Student%27s_t-test)."
   ]
  },
  {
   "cell_type": "markdown",
   "metadata": {},
   "source": [
    "**4.1)**"
   ]
  },
  {
   "cell_type": "code",
   "execution_count": 128,
   "metadata": {},
   "outputs": [
    {
     "name": "stdout",
     "output_type": "stream",
     "text": [
      "a)For policies where the signing was done at the bottom\n",
      " Mean is :98692.36km with a standard deviation of 51928.18km\n",
      "b)For policies where the signing was done at the top\n",
      " Mean is :85794.62km with standard deviation 51704.29 km\n"
     ]
    }
   ],
   "source": [
    "# 1. Mean and std of updated average kilometrage depending on signing condition\n",
    "top_policy = policy[policy['condition']== 'Sign Top']['update_average']\n",
    "bottom_policy = policy[policy['condition']== 'Sign Bottom']['update_average']\n",
    "top_m_std = top_policy.describe().loc[['mean','std']]\n",
    "bottom_m_std = bottom_policy.describe().loc[['mean','std']]\n",
    "print('a)For policies where the signing was done at the bottom\\n Mean is :{:2.2f}km with a standard deviation of {:2.2f}km\\nb)For policies where the signing was done at the top\\n Mean is :{:2.2f}km with standard deviation {:2.2f} km'.format(bottom_m_std[0],bottom_m_std[1],top_m_std[0],top_m_std[1]))"
   ]
  },
  {
   "cell_type": "markdown",
   "metadata": {},
   "source": [
    "Surprisingly, it seems that signing at the bottom \"increases honesty\".\n",
    "Of course, that is meaningless since we didn't study the uncertainty of those estimates.\n",
    "In addition, it is too early to know if those findings are in any way linked to customer dishonesty."
   ]
  },
  {
   "cell_type": "code",
   "execution_count": 129,
   "metadata": {},
   "outputs": [
    {
     "data": {
      "image/png": "[encoded data removed]",
      "text/plain": [
       "<Figure size 720x432 with 1 Axes>"
      ]
     },
     "metadata": {
      "needs_background": "light"
     },
     "output_type": "display_data"
    }
   ],
   "source": [
    "# 4.1. Plot of the kilometrage distributions\n",
    "top_policy.hist(bins=50,label='Sign Top', figsize=(10, 6),range=[0, 1.1e6])\n",
    "\n",
    "bottom_policy.hist(bins=50,label='Sign Bottom', figsize=(10, 6),range=[0, 1.1e6],alpha=0.7)\n",
    "\n",
    "plt.title('Updated average kilometrage, histogram')\n",
    "plt.xlabel('stated kilometrage')\n",
    "plt.ylabel('number of contracts')\n",
    "plt.legend()\n",
    "plt.show()"
   ]
  },
  {
   "cell_type": "markdown",
   "metadata": {},
   "source": [
    "**4.2)**"
   ]
  },
  {
   "cell_type": "code",
   "execution_count": 130,
   "metadata": {},
   "outputs": [
    {
     "name": "stdout",
     "output_type": "stream",
     "text": [
      "T-statistic is -14.452368 and pvalue is 5.435352e-47\n",
      "The p-value indicates that the means are statistically different.\n"
     ]
    }
   ],
   "source": [
    "#4.2 Statistical difference between sests of data \n",
    "print('T-statistic is {:2f} and pvalue is {:2e}'.format(stats.ttest_ind(top_policy,bottom_policy)[0],stats.ttest_ind(top_policy,bottom_policy)[1]))\n",
    "\n",
    "# The test quantifies the difference in the arithmetic means of two sets of data\n",
    "# The low p value is an evidence against the null hypoyhesis of same population\n",
    "print('The p-value indicates that the means are statistically different.')"
   ]
  },
  {
   "cell_type": "code",
   "execution_count": 131,
   "metadata": {},
   "outputs": [
    {
     "data": {
      "image/png": "[encoded data removed]",
      "text/plain": [
       "<Figure size 432x288 with 1 Axes>"
      ]
     },
     "metadata": {
      "needs_background": "light"
     },
     "output_type": "display_data"
    }
   ],
   "source": [
    "# Using confidence intervals on the two means,\n",
    "# we can also conclude that signing at the top or at the bottom\n",
    "# may have a significant impact on social behavior\n",
    "ax = sns.barplot(x=\"condition\", y=\"update_average\", data=policy)\n",
    "plt.ylabel('kilometrage')\n",
    "plt.xlabel('')\n",
    "plt.title('Stated kilometrage (with CI) according to the place of the signature')\n",
    "plt.show()"
   ]
  },
  {
   "cell_type": "markdown",
   "metadata": {},
   "source": [
    "**4.3 )** **Discuss** Our findings can not prove an increase of honesty when customers are signing at the top of the contracts. According to the confidence intervals displayed above, we found that the stated kilometrage in the _sign Top_ contracts are significantly lower in average than for the _sign Bottom_ contracts. In addition, the Student test has shown a significant difference between the two means which has been estimated to 10<sup>3</sup> km in order of magnitude according to question 1. \n",
    "\n",
    "What is observed here is opposite to the inital hypothesis/intuition from the hw material ( _'it could be that signing at the beginning rather than at the end of the document would decrease dishonesty'_ ) since it would be expected that an inscrease in dishonesty would result in a smaller kilometrage mean value."
   ]
  },
  {
   "cell_type": "markdown",
   "metadata": {},
   "source": [
    "**4.4 )** **Discuss** \n",
    "We don't expect any differences between the averages values for the baseline contract, because no intervention was performed, everyone had the same contract to sign."
   ]
  },
  {
   "cell_type": "markdown",
   "metadata": {},
   "source": [
    "**4.5)**"
   ]
  },
  {
   "cell_type": "code",
   "execution_count": 132,
   "metadata": {},
   "outputs": [
    {
     "name": "stdout",
     "output_type": "stream",
     "text": [
      "For baseline contracts\n",
      "a)For policies where the signing was done at the bottom\n",
      " Mean is :75020.75km with a standard deviation of 50256.59km\n",
      "b)For policies where the signing was done at the top\n",
      " Mean is :59696.23km with standard deviation 49956.32 km\n"
     ]
    }
   ],
   "source": [
    "# 4.5. Mean and std of updated average kilometrage depending on signing condition\n",
    "top_policy_bas = policy[policy['condition']== 'Sign Top']['baseline_average']\n",
    "bottom_policy_bas = policy[policy['condition']== 'Sign Bottom']['baseline_average']\n",
    "top_m_std_bas = top_policy_bas.describe().loc[['mean','std']]\n",
    "bottom_m_std_bas = bottom_policy_bas.describe().loc[['mean','std']]\n",
    "print('For baseline contracts\\na)For policies where the signing was done at the bottom\\n Mean is :{:2.2f}km with a standard deviation of {:2.2f}km\\nb)For policies where the signing was done at the top\\n Mean is :{:2.2f}km with standard deviation {:2.2f} km'.format(bottom_m_std_bas[0],bottom_m_std_bas[1],top_m_std_bas[0],top_m_std_bas[1]))"
   ]
  },
  {
   "cell_type": "code",
   "execution_count": 133,
   "metadata": {},
   "outputs": [
    {
     "data": {
      "image/png": "[encoded data removed]",
      "text/plain": [
       "<Figure size 720x432 with 1 Axes>"
      ]
     },
     "metadata": {
      "needs_background": "light"
     },
     "output_type": "display_data"
    }
   ],
   "source": [
    "# 4.5 Plot of the distribution\n",
    "top_policy_bas.hist(bins=50,label='Sign Top', figsize=(10, 6),range=[0, 1.1e6])\n",
    "bottom_policy_bas.hist(bins=50,label='Sign Bottom', figsize=(10, 6),range=[0, 1.1e6],alpha=0.7)\n",
    "plt.title('Baseline average kilometrage, histogram')\n",
    "plt.legend()\n",
    "plt.show()"
   ]
  },
  {
   "cell_type": "code",
   "execution_count": 134,
   "metadata": {},
   "outputs": [
    {
     "name": "stdout",
     "output_type": "stream",
     "text": [
      "T-statistic is -17.76 and pvalue is 9.33e-70\n",
      "The p-value indicates that the means are statistically different.\n"
     ]
    }
   ],
   "source": [
    "#4.5. Statistical difference between sests of data \n",
    "print('T-statistic is {:2.2f} and pvalue is {:2.2e}'.format(stats.ttest_ind(top_policy_bas,bottom_policy_bas)[0],stats.ttest_ind(top_policy_bas,bottom_policy_bas)[1]))\n",
    "\n",
    "#The test quantifies the difference in the arithmetic means of two sets of data\n",
    "#The low p value is an evidence against the null hypoyhesis of same population\n",
    "print('The p-value indicates that the means are statistically different.')"
   ]
  },
  {
   "cell_type": "code",
   "execution_count": 135,
   "metadata": {},
   "outputs": [
    {
     "data": {
      "image/png": "[encoded data removed]",
      "text/plain": [
       "<Figure size 432x288 with 1 Axes>"
      ]
     },
     "metadata": {
      "needs_background": "light"
     },
     "output_type": "display_data"
    }
   ],
   "source": [
    "# Using confidence intervals on the two means, we can\n",
    "# also conclude for the baseline contract that signing\n",
    "# at the top or at the bottom may have a significant\n",
    "# impact on customer's honesty\n",
    "ax = sns.barplot(x=\"condition\", y=\"baseline_average\", data=policy)\n",
    "plt.ylabel('kilometrage')\n",
    "plt.xlabel('')\n",
    "plt.title('Stated kilometrage (with CI) according to the place of the signature')\n",
    "plt.show()"
   ]
  },
  {
   "cell_type": "markdown",
   "metadata": {},
   "source": [
    "**4.6)** Surprinsingly, there is a statistically significant difference between the two subgroups concernging their stated kilometrage in the baseline contract (see the small length of the confidence intervals and the gap between the two bars on the above plot). Indeed, the T-statistic value is -17.76 and the p-value is 9.33$\\cdot$10<sup>-70</sup>."
   ]
  },
  {
   "cell_type": "markdown",
   "metadata": {},
   "source": [
    "## Interlude: Something is dodgy about this data...\n",
    "\n",
    "---\n",
    "\n",
    "Noticing the oddities in the data, you send an email to your contact at the insurance company asking about the integrity\n",
    " of the data. Their reply seems like something out of a detective movie:\n",
    "\n",
    "> Dear researcher, I believe that this data is not to be trusted. I can't talk right now but will send further hints \n",
    ">throughout the week.\n",
    "\n",
    "As a researcher, you know that [data integrity](https://en.wikipedia.org/wiki/Data_integrity) is a big deal, and decide\n",
    " to investigate."
   ]
  },
  {
   "cell_type": "markdown",
   "metadata": {},
   "source": [
    "### Task 5 — 9pts\n",
    "\n",
    "The first hint you receive is: *there is something off about the kilometrage values in the data.*\n",
    "\n",
    "1. For the baseline contract and for the updated contract, plot the distribution of odometer kilometrage reported for \n",
    "the first motorcycle insured in each policy. \n",
    "2. For the first motorcycle insured by the company in each policy, plot the difference between the number of kilometers\n",
    " reported in the baseline and in the updated contract.\n",
    "3. **Discuss:** why is this data unlikely to have originated from real odometer readings?\n",
    "\n",
    "---"
   ]
  },
  {
   "cell_type": "markdown",
   "metadata": {},
   "source": [
    "**5.1)**"
   ]
  },
  {
   "cell_type": "code",
   "execution_count": 136,
   "metadata": {
    "scrolled": false
   },
   "outputs": [
    {
     "data": {
      "image/png": "[encoded data removed]",
      "text/plain": [
       "<Figure size 720x432 with 1 Axes>"
      ]
     },
     "metadata": {
      "needs_background": "light"
     },
     "output_type": "display_data"
    }
   ],
   "source": [
    "# First motorcycle kilometrage distribution for baseline and updated\n",
    "bin_num=200\n",
    "policy['baseline_motorcycle1'].hist(bins=bin_num, alpha=0.7, figsize=(10, 6),range=[0, 1.1e6])\n",
    "policy['update_motorcycle1'].hist(bins=bin_num, alpha=0.7, figsize=(10, 6),range=[0, 1.1e6])\n",
    "plt.xlabel('Stated kilometrage')\n",
    "plt.ylabel('Number of contracts')\n",
    "plt.legend(['baseline contract', 'updated contract'])\n",
    "plt.title('kilometrage distribution for motorcycle 1')\n",
    "plt.show()"
   ]
  },
  {
   "cell_type": "markdown",
   "metadata": {},
   "source": [
    "**5.2)**"
   ]
  },
  {
   "cell_type": "code",
   "execution_count": 137,
   "metadata": {},
   "outputs": [
    {
     "data": {
      "image/png": "[encoded data removed]",
      "text/plain": [
       "<Figure size 720x432 with 1 Axes>"
      ]
     },
     "metadata": {
      "needs_background": "light"
     },
     "output_type": "display_data"
    }
   ],
   "source": [
    "#5.2 Difference between baseline and updated contract for motorcycle 1\n",
    "diff_m1 = policy['update_motorcycle1'] - policy['baseline_motorcycle1']\n",
    "pd_diff = diff_m1.to_frame()\n",
    "pd_diff.reset_index(inplace=True)\n",
    "pd_diff.columns = ['index','difference']\n",
    "pd_diff.plot(kind='scatter',x='index',y='difference',s=0.5, figsize=(10, 6))\n",
    "plt.xlabel('contract ID')\n",
    "plt.ylabel('kilometrage difference')\n",
    "plt.title('Kilometrage difference between baseline and updated contract for motorcycle 1')\n",
    "plt.show()"
   ]
  },
  {
   "cell_type": "code",
   "execution_count": 138,
   "metadata": {},
   "outputs": [
    {
     "data": {
      "image/png": "[encoded data removed]",
      "text/plain": [
       "<Figure size 720x432 with 1 Axes>"
      ]
     },
     "metadata": {
      "needs_background": "light"
     },
     "output_type": "display_data"
    }
   ],
   "source": [
    "pd_diff['difference'].hist(bins=50, figsize=(10, 6))\n",
    "plt.xlabel('Kilometrage difference')\n",
    "plt.ylabel('Number of contracts')\n",
    "plt.title('Kilometrage difference distribution for motorcycle 1')\n",
    "plt.show()"
   ]
  },
  {
   "cell_type": "markdown",
   "metadata": {},
   "source": [
    "**5.3)**"
   ]
  },
  {
   "cell_type": "markdown",
   "metadata": {},
   "source": [
    "**Discuss** \n",
    "\n",
    "The updated contract distribution is shifted towards higher values of kilometrages, as expected.\n",
    "\n",
    "However the distribution shape is extremely similar to the initial one, (except for the peak on the extreme left) which is unexpected, as we could imagine that the updated kilometers would vary depending on the driving trends. Instead we should be seeing a more stretched version of the baseline contract for the updated contract (those who drive a lot gain even more distance on the others, those who drive less are even further behind).\n",
    "\n",
    "\n",
    "The kilometrage difference distribution is nearly constant. This is odd because we can expect a more normalized distribution ( a normal distribution or multimodal normal distribution) , where a few people drive only a few kilometers between two contracts, few people drive a lot, and the majority of people drive a similar amount. Obviously this could be more complicated than this simple normalized view however a flat distribution is far from this expectation."
   ]
  },
  {
   "cell_type": "markdown",
   "metadata": {},
   "source": [
    "### Task 6 — 15pts\n",
    "\n",
    "The second hint you receive is: *there is something off with the last digits of the reported kilometrages.*\n",
    "\n",
    "1. Considering the baseline kilometrage of the first motorcycle in each contract (`baseline_motorcycle1`), plot the \n",
    "distribution of occurrences of the last three digits. Repeat the same for the updated kilometrage of the first \n",
    "motorcycle in each contract (`update_motorcycle1`).\n",
    "\n",
    "3. **Discuss:** What are the differences between the two distributions?\n",
    "\n",
    "4. **Discuss:** Hypothesize a **plausible** cause for the patterns observed in the digit distribution of the baseline\n",
    " kilometrage of the first motorcycle.\n",
    "    \n",
    "---\n",
    "\n",
    "**Hint:** The last two digits of the number 12314 are 314. Note that you should consider the three last digits together,\n",
    " not separately!"
   ]
  },
  {
   "cell_type": "markdown",
   "metadata": {},
   "source": [
    "**6.1)**"
   ]
  },
  {
   "cell_type": "code",
   "execution_count": 139,
   "metadata": {
    "scrolled": false
   },
   "outputs": [
    {
     "data": {
      "image/png": "[encoded data removed]",
      "text/plain": [
       "<Figure size 720x360 with 2 Axes>"
      ]
     },
     "metadata": {
      "needs_background": "light"
     },
     "output_type": "display_data"
    }
   ],
   "source": [
    "fig, axes = plt.subplots(nrows=1, ncols=2,figsize=(10,5),sharex=True,sharey=True)\n",
    "\n",
    "fig.suptitle('Distribution of the last three digits fo the kilometrage', fontsize=14)\n",
    "\n",
    "policy['baseline_motorcycle1'].apply(lambda d : (d %1000)).hist(bins = 100,log=True,ax=axes[0])\n",
    "axes[0].set_title('baseline_motorcycle1', fontsize=9)\n",
    "axes[0].set_ylim((1e1,3e3))\n",
    "\n",
    "policy['update_motorcycle1'].apply(lambda d : (d %1000)).hist(bins = 100,log=True,ax=axes[1])\n",
    "axes[1].set_title('update_motorcycle1', fontsize=9)\n",
    "axes[1].set_ylim((1e1,3e3))\n",
    "\n",
    "fig.text(0.4,0, 'Three last digits of the kilometrage')\n",
    "axes[0].set_ylabel('Number of contracts')\n",
    "plt.show()"
   ]
  },
  {
   "cell_type": "markdown",
   "metadata": {},
   "source": [
    "**6.2)** On the baseline contract there is an increased amount of contracts that have a kilometrage with the last three digits equal or close to 000 and 500. The increased amount doesn't appear in the updated contracts.\n",
    "\n",
    "Additionally we can see peaks at some multiples of 100 in the baseline_motorcycle1 kilometrages distribution. These peaks are less visible in the update_motorcycles1 kilometrage values. (Note: 000 corresponds to 1000,2000,3000, etc)"
   ]
  },
  {
   "cell_type": "markdown",
   "metadata": {},
   "source": [
    "**6.3)**\n",
    "When entering the kilometrage of their motobikes some customers might have rounded to the closest thousand or hundredth because of _round number bias_. ( According to wikipedia : _\"Round number bias is the psychological tendency to prefer round numbers over others\"_ https://en.wikipedia.org/wiki/Round_number#Round_number_bias \n",
    "\n",
    "At this point we can't explain why we can't find this in the second set of data, we can hypothesize that the updated kilometrage numbers have been entered in a different way than in the baseline contracts."
   ]
  },
  {
   "cell_type": "markdown",
   "metadata": {},
   "source": [
    "### Task 7 — 15pts\n",
    "\n",
    "The third (and last) hint you receive is: *there is something wrong with the fonts.*\n",
    "\n",
    "Your anonymous source explains that the `.tsv` file sent to you was derived from an Excel sheet. There, some of the rows\n",
    " were written in the font *Helvetica* while others were written in the font *Arial*. Your anonymous source sends you a \n",
    " file with the relation between policy id and the font used in the respective row (`fonts.csv`), and tells you that the\n",
    "  rows with *Helvetica* font were fabricated.\n",
    "\n",
    "1. Load `fonts.csv` and merge the `font` column into your pandas dataframe.\n",
    "2. Considering only the kilometrage of the first motorcycle in each policy, calculate the number of rows with the Arial \n",
    "and the Helvetica font, respectively. Also, plot the distribution of baseline kilometers for rows with the Arial font \n",
    "and for rows with the Helvetica font.\n",
    "3. Similar to what was done in task 6. Plot the distribution of the last three digits for 1) the first motorcycle in \n",
    "each baseline contract (`baseline_motorcycle1`); and 2) the first motorcycle in each updated contract\n",
    " (`update_motorcycle1`).\n",
    "4. **Discuss:** Why do these analyses provide evidence that the rows with Helvetica font were fabricated?\n",
    "\n",
    "---"
   ]
  },
  {
   "cell_type": "markdown",
   "metadata": {},
   "source": [
    "**7.1)**"
   ]
  },
  {
   "cell_type": "code",
   "execution_count": 140,
   "metadata": {},
   "outputs": [
    {
     "data": {
      "text/html": [
       "<div>\n",
       "<style scoped>\n",
       "    .dataframe tbody tr th:only-of-type {\n",
       "        vertical-align: middle;\n",
       "    }\n",
       "\n",
       "    .dataframe tbody tr th {\n",
       "        vertical-align: top;\n",
       "    }\n",
       "\n",
       "    .dataframe thead th {\n",
       "        text-align: right;\n",
       "    }\n",
       "</style>\n",
       "<table border=\"1\" class=\"dataframe\">\n",
       "  <thead>\n",
       "    <tr style=\"text-align: right;\">\n",
       "      <th></th>\n",
       "      <th>condition</th>\n",
       "      <th>id</th>\n",
       "      <th>baseline_motorcycle1</th>\n",
       "      <th>update_motorcycle1</th>\n",
       "      <th>baseline_motorcycle2</th>\n",
       "      <th>update_motorcycle2</th>\n",
       "      <th>baseline_motorcycle3</th>\n",
       "      <th>update_motorcycle3</th>\n",
       "      <th>baseline_motorcycle4</th>\n",
       "      <th>update_motorcycle4</th>\n",
       "      <th>motorcycle_count</th>\n",
       "      <th>baseline_average</th>\n",
       "      <th>update_average</th>\n",
       "      <th>diff_average</th>\n",
       "      <th>font</th>\n",
       "    </tr>\n",
       "  </thead>\n",
       "  <tbody>\n",
       "    <tr>\n",
       "      <th>0</th>\n",
       "      <td>Sign Top</td>\n",
       "      <td>1</td>\n",
       "      <td>896</td>\n",
       "      <td>39198</td>\n",
       "      <td>NaN</td>\n",
       "      <td>NaN</td>\n",
       "      <td>NaN</td>\n",
       "      <td>NaN</td>\n",
       "      <td>NaN</td>\n",
       "      <td>NaN</td>\n",
       "      <td>1</td>\n",
       "      <td>896.0</td>\n",
       "      <td>39198.0</td>\n",
       "      <td>38302.0</td>\n",
       "      <td>Helvetica</td>\n",
       "    </tr>\n",
       "    <tr>\n",
       "      <th>1</th>\n",
       "      <td>Sign Bottom</td>\n",
       "      <td>2</td>\n",
       "      <td>21396</td>\n",
       "      <td>63511</td>\n",
       "      <td>32659.0</td>\n",
       "      <td>47605.0</td>\n",
       "      <td>NaN</td>\n",
       "      <td>NaN</td>\n",
       "      <td>NaN</td>\n",
       "      <td>NaN</td>\n",
       "      <td>2</td>\n",
       "      <td>27027.5</td>\n",
       "      <td>55558.0</td>\n",
       "      <td>28530.5</td>\n",
       "      <td>Helvetica</td>\n",
       "    </tr>\n",
       "    <tr>\n",
       "      <th>2</th>\n",
       "      <td>Sign Bottom</td>\n",
       "      <td>3</td>\n",
       "      <td>21340</td>\n",
       "      <td>37460</td>\n",
       "      <td>44998.0</td>\n",
       "      <td>59002.0</td>\n",
       "      <td>NaN</td>\n",
       "      <td>NaN</td>\n",
       "      <td>NaN</td>\n",
       "      <td>NaN</td>\n",
       "      <td>2</td>\n",
       "      <td>33169.0</td>\n",
       "      <td>48231.0</td>\n",
       "      <td>15062.0</td>\n",
       "      <td>Helvetica</td>\n",
       "    </tr>\n",
       "    <tr>\n",
       "      <th>3</th>\n",
       "      <td>Sign Bottom</td>\n",
       "      <td>4</td>\n",
       "      <td>23912</td>\n",
       "      <td>59136</td>\n",
       "      <td>NaN</td>\n",
       "      <td>NaN</td>\n",
       "      <td>NaN</td>\n",
       "      <td>NaN</td>\n",
       "      <td>NaN</td>\n",
       "      <td>NaN</td>\n",
       "      <td>1</td>\n",
       "      <td>23912.0</td>\n",
       "      <td>59136.0</td>\n",
       "      <td>35224.0</td>\n",
       "      <td>Helvetica</td>\n",
       "    </tr>\n",
       "    <tr>\n",
       "      <th>4</th>\n",
       "      <td>Sign Bottom</td>\n",
       "      <td>5</td>\n",
       "      <td>16862</td>\n",
       "      <td>59292</td>\n",
       "      <td>NaN</td>\n",
       "      <td>NaN</td>\n",
       "      <td>NaN</td>\n",
       "      <td>NaN</td>\n",
       "      <td>NaN</td>\n",
       "      <td>NaN</td>\n",
       "      <td>1</td>\n",
       "      <td>16862.0</td>\n",
       "      <td>59292.0</td>\n",
       "      <td>42430.0</td>\n",
       "      <td>Arial</td>\n",
       "    </tr>\n",
       "  </tbody>\n",
       "</table>\n",
       "</div>"
      ],
      "text/plain": [
       "     condition  id  baseline_motorcycle1  update_motorcycle1  \\\n",
       "0     Sign Top   1                   896               39198   \n",
       "1  Sign Bottom   2                 21396               63511   \n",
       "2  Sign Bottom   3                 21340               37460   \n",
       "3  Sign Bottom   4                 23912               59136   \n",
       "4  Sign Bottom   5                 16862               59292   \n",
       "\n",
       "   baseline_motorcycle2  update_motorcycle2  baseline_motorcycle3  \\\n",
       "0                   NaN                 NaN                   NaN   \n",
       "1               32659.0             47605.0                   NaN   \n",
       "2               44998.0             59002.0                   NaN   \n",
       "3                   NaN                 NaN                   NaN   \n",
       "4                   NaN                 NaN                   NaN   \n",
       "\n",
       "   update_motorcycle3  baseline_motorcycle4  update_motorcycle4  \\\n",
       "0                 NaN                   NaN                 NaN   \n",
       "1                 NaN                   NaN                 NaN   \n",
       "2                 NaN                   NaN                 NaN   \n",
       "3                 NaN                   NaN                 NaN   \n",
       "4                 NaN                   NaN                 NaN   \n",
       "\n",
       "   motorcycle_count  baseline_average  update_average  diff_average       font  \n",
       "0                 1             896.0         39198.0       38302.0  Helvetica  \n",
       "1                 2           27027.5         55558.0       28530.5  Helvetica  \n",
       "2                 2           33169.0         48231.0       15062.0  Helvetica  \n",
       "3                 1           23912.0         59136.0       35224.0  Helvetica  \n",
       "4                 1           16862.0         59292.0       42430.0      Arial  "
      ]
     },
     "execution_count": 140,
     "metadata": {},
     "output_type": "execute_result"
    }
   ],
   "source": [
    "fonts = pd.read_csv(FONTS_DATASET, sep=',', on_bad_lines='warn')\n",
    "policy_w_fonts=pd.merge(policy,fonts) # pandas automatically merges on id column\n",
    "policy_w_fonts.head()"
   ]
  },
  {
   "cell_type": "markdown",
   "metadata": {},
   "source": [
    "#### 7.2)"
   ]
  },
  {
   "cell_type": "code",
   "execution_count": 141,
   "metadata": {},
   "outputs": [
    {
     "name": "stdout",
     "output_type": "stream",
     "text": [
      "Number of rows with the Helvetica font: 6742 \n",
      "Number of rows with the Arial     font: 6744\n"
     ]
    }
   ],
   "source": [
    "# number of rows with Helvetica, same for Arial\n",
    "helvet_num=len(policy_w_fonts[policy_w_fonts['font']=='Helvetica'])\n",
    "arial_num=len(policy_w_fonts[policy_w_fonts['font']=='Arial'])\n",
    "\n",
    "print(\"Number of rows with the Helvetica font: {} \".format(helvet_num))\n",
    "print(\"Number of rows with the Arial     font: {}\".format(arial_num))"
   ]
  },
  {
   "cell_type": "code",
   "execution_count": 142,
   "metadata": {},
   "outputs": [
    {
     "data": {
      "image/png": "[encoded data removed]",
      "text/plain": [
       "<Figure size 720x360 with 2 Axes>"
      ]
     },
     "metadata": {
      "needs_background": "light"
     },
     "output_type": "display_data"
    }
   ],
   "source": [
    "# baseline kilometers for rows with the Arial font and for rows with the Helvetica font \n",
    "# ( only the first motorcycle )\n",
    "\n",
    "fig, axes = plt.subplots(nrows=1, ncols=2,figsize=(10,5))\n",
    "\n",
    "policy_w_fonts.loc[(policy_w_fonts['font']=='Helvetica'),'baseline_motorcycle1'].hist(bins = 100,log=True,ax=axes[0])\n",
    "\n",
    "axes[0].set_title('Baseline kilometrage distribution - Helvetica', fontsize=9)\n",
    "axes[0].set_xlabel('Kilometrage')\n",
    "axes[0].set_ylabel('Number of contracts')\n",
    "\n",
    "fig.suptitle('Kilometrage and Helvetica font', fontsize=14)\n",
    "\n",
    "(policy_w_fonts.loc[(policy_w_fonts['font']=='Helvetica'),'baseline_motorcycle1']).plot.box(ax=axes[1])\n",
    "\n",
    "axes[1].set_title('Baseline kilometrage distribution - Helvetica', fontsize=9)\n",
    "axes[1].set_ylabel('kilometrage')\n",
    "\n",
    "axes[1].set_xticks([])\n",
    "plt.show()"
   ]
  },
  {
   "cell_type": "code",
   "execution_count": 143,
   "metadata": {
    "scrolled": true
   },
   "outputs": [
    {
     "data": {
      "image/png": "[encoded data removed]",
      "text/plain": [
       "<Figure size 720x360 with 2 Axes>"
      ]
     },
     "metadata": {
      "needs_background": "light"
     },
     "output_type": "display_data"
    }
   ],
   "source": [
    "# baseline kilometers for rows with the Arial font and for rows with the Helvetica font \n",
    "# ( only the first motorcycle )\n",
    "\n",
    "fig, axes = plt.subplots(nrows=1, ncols=2,figsize=(10,5))\n",
    "\n",
    "policy_w_fonts.loc[(policy_w_fonts['font']=='Arial'),'baseline_motorcycle1'].hist(bins = 100,log=True,ax=axes[0])\n",
    "\n",
    "axes[0].set_title('Baseline kilometrage distribution - Arial', fontsize=9)\n",
    "axes[0].set_xlabel('Kilometrage')\n",
    "axes[0].set_ylabel('Number of contracts')\n",
    "\n",
    "fig.suptitle('Kilometrage and Arial font', fontsize=14)\n",
    "\n",
    "(policy_w_fonts.loc[(policy_w_fonts['font']=='Arial'),'baseline_motorcycle1']).plot.box(ax=axes[1])\n",
    "\n",
    "axes[1].set_title('Baseline kilometrage distribution - Arial', fontsize=9)\n",
    "axes[1].set_ylabel('kilometrage')\n",
    "\n",
    "axes[1].set_xticks([])\n",
    "plt.show()"
   ]
  },
  {
   "cell_type": "markdown",
   "metadata": {},
   "source": [
    "**7.3)**"
   ]
  },
  {
   "cell_type": "code",
   "execution_count": 144,
   "metadata": {},
   "outputs": [
    {
     "data": {
      "image/png": "[encoded data removed]",
      "text/plain": [
       "<Figure size 720x360 with 2 Axes>"
      ]
     },
     "metadata": {
      "needs_background": "light"
     },
     "output_type": "display_data"
    }
   ],
   "source": [
    "fig, axes = plt.subplots(nrows=1, ncols=2,figsize=(10,5))\n",
    "\n",
    "fig.suptitle('Distribution of the last three digits - ARIAL', fontsize=14)\n",
    "\n",
    "policy_w_fonts.loc[(policy_w_fonts['font']=='Arial'),'baseline_motorcycle1'].apply(lambda d : (d %1000)).hist(bins = 50,log=True,ax=axes[0])\n",
    "axes[0].set_title('baseline_motorcycle1', fontsize=9)\n",
    "axes[0].set_ylim((1e1,3e3))\n",
    "axes[0].set_xlabel('last three digits')\n",
    "axes[0].set_ylabel('Number of contracts')\n",
    "\n",
    "policy_w_fonts.loc[(policy_w_fonts['font']=='Helvetica'),'update_motorcycle1'].apply(lambda d : (d %1000)).hist(bins = 50,log=True,ax=axes[1])\n",
    "axes[1].set_title('update_motorcycle1', fontsize=9)\n",
    "axes[1].set_ylim((1e1,3e3))\n",
    "axes[1].set_xlabel('last three digits')\n",
    "axes[1].set_ylabel('Number of contracts')\n",
    "plt.show()"
   ]
  },
  {
   "cell_type": "code",
   "execution_count": 145,
   "metadata": {
    "scrolled": true
   },
   "outputs": [
    {
     "data": {
      "image/png": "[encoded data removed]",
      "text/plain": [
       "<Figure size 720x360 with 2 Axes>"
      ]
     },
     "metadata": {
      "needs_background": "light"
     },
     "output_type": "display_data"
    }
   ],
   "source": [
    "fig, axes = plt.subplots(nrows=1, ncols=2,figsize=(10,5))\n",
    "\n",
    "fig.suptitle('Distribution of the last three digits - Helvetica', fontsize=14)\n",
    "\n",
    "policy_w_fonts.loc[(policy_w_fonts['font']=='Helvetica'),'baseline_motorcycle1'].apply(lambda d : (d %1000)).hist(bins = 50,log=True,ax=axes[0])\n",
    "axes[0].set_title('baseline_motorcycle1', fontsize=9)\n",
    "axes[0].set_ylim((1e1,3e3))\n",
    "axes[0].set_xlabel('last three digits')\n",
    "axes[0].set_ylabel('Number of contracts')\n",
    "\n",
    "\n",
    "policy_w_fonts.loc[(policy_w_fonts['font']=='Helvetica'),'update_motorcycle1'].apply(lambda d : (d %1000)).hist(bins = 50,log=True,ax=axes[1])\n",
    "axes[1].set_title('update_motorcycle1', fontsize=9)\n",
    "axes[1].set_ylim((1e1,3e3))\n",
    "axes[1].set_xlabel('last three digits')\n",
    "axes[1].set_ylabel('Number of contracts')\n",
    "plt.show()"
   ]
  },
  {
   "cell_type": "markdown",
   "metadata": {},
   "source": [
    "**7.4 )**"
   ]
  },
  {
   "cell_type": "markdown",
   "metadata": {},
   "source": [
    "Theses analyses show that the human _round number bias_ appears only in the Arial (baseline set). Indeed, when looking at the distribution of the last three numbers of the baseline kilometrages written in arial we can see that there are more kilometrages ending in 000 and some multipled of 100.\n",
    "\n",
    "This peak does not appear in the updated kilometrages, and also does not appear in the baseline motorcyle kilometrage written in Helvetica. "
   ]
  },
  {
   "cell_type": "markdown",
   "metadata": {},
   "source": [
    "### Task 8 — 15pts\n",
    "\n",
    "You've had enough! You decide to write an email to your PI (principal investigator, also known as \"your boss\") reporting\n",
    " the oddities you have observed in the data. Write a (brief) text (in markdown) of up to 300 words. Your text should:\n",
    "\n",
    "- Use the analyses you did to make a convincing case that the data has been tampered with. \n",
    "- Grounded in your analyses, provide a plausible hypothesis about how the data has been tampered with.\n",
    "- Discuss whether the data leads to the conclusion that signing at the top decreases dishonesty.\n",
    "\n",
    "Structure your text into three bullets, analogous to the ones above.\n",
    "\n",
    "You can reference images present in the notebook by indicating a task (e.g., image plotted in Task 3.3) or a cell \n",
    "number.\n",
    "\n",
    "Note that you do not need to conduct any additional analysis to write this text. If you do, the code should be at the \n",
    "end of this notebook, i.e., after your answer.\n",
    "\n",
    "---\n",
    "\n",
    "**Hint:** The data has been tampered with in more than one way."
   ]
  },
  {
   "cell_type": "markdown",
   "metadata": {},
   "source": [
    "People who were asked to sign at the bottom the next year seem to have behaved significantly different for the baseline contract from those who were asked to sign at the top. This is surprising since those two subgroups of people were designed arbitrarily and they both signed at the bottom the first year.\n",
    "Between the baseline and updated contract, customers seem to have driven drastically different distances. Here, it would have been expected that the difference of stated kilometrage between the two contracts would have looked more like a normal distribution (or a multimodal normal distribution).\n",
    "Also, there is no round number bias on all the Helvetica rows, it appears only in the baseline contracts written in Arial.\n",
    "\n",
    "We believe that the data has been modified in the following way. The dataset is composed of an original part and a fabricated one. The original part is the baseline contract in Arial, as they show some signs of human creation (Histogram 7.3). Based on this subset of data, a set of updated contracts, in Arial, has been fabricated adding uniformly distributed values (scatter plot 5.2). To increase the dataset size, another set of data has been fabricated, with the Helvetica font, for both the baseline and the updated contracts. For the baseline contracts, they used the Arial baseline contracts and reproduced the same distribution (7.2), however as they artificially created this data the distribution was similar but the human traces (rounded numbers) were not reproduced. The fabrication of data lead to the almost constant distribution of the difference between updated and baseline kilometrages (Histogram on 5.2).\n",
    "\n",
    "On account of the number of inconsistencies that we found in the dataset, we cannot confirm that signing at the top instead of signing at the bottom would increase the honesty of customers."
   ]
  }
 ],
 "metadata": {
  "kernelspec": {
   "display_name": "Python 3 (ipykernel)",
   "language": "python",
   "name": "python3"
  },
  "language_info": {
   "codemirror_mode": {
    "name": "ipython",
    "version": 3
   },
   "file_extension": ".py",
   "mimetype": "text/x-python",
   "name": "python",
   "nbconvert_exporter": "python",
   "pygments_lexer": "ipython3",
   "version": "3.8.11"
  },
  "pycharm": {
   "stem_cell": {
    "cell_type": "raw",
    "metadata": {
     "collapsed": false
    },
    "source": []
   }
  }
 },
 "nbformat": 4,
 "nbformat_minor": 4
}
